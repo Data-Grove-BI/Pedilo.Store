{
 "cells": [
  {
   "cell_type": "code",
   "execution_count": null,
   "metadata": {},
   "outputs": [],
   "source": [
    "#pip install schedule"
   ]
  },
  {
   "cell_type": "code",
   "execution_count": null,
   "metadata": {},
   "outputs": [],
   "source": [
    "#pip install selenium"
   ]
  },
  {
   "cell_type": "code",
   "execution_count": null,
   "metadata": {},
   "outputs": [],
   "source": [
    "#pip install --upgrade selenium"
   ]
  },
  {
   "cell_type": "code",
   "execution_count": null,
   "metadata": {},
   "outputs": [],
   "source": [
    "from selenium import webdriver\n",
    "from selenium.webdriver.common.keys import Keys\n",
    "import time\n",
    "import csv\n",
    "from datetime import datetime, timedelta\n",
    "import schedule"
   ]
  },
  {
   "cell_type": "code",
   "execution_count": null,
   "metadata": {},
   "outputs": [],
   "source": [
    "chrome_driver_path = \"/ruta/a/tu/chromedriver\"\n",
    "csv_file_path = \"./mensajes.csv\""
   ]
  },
  {
   "cell_type": "code",
   "execution_count": null,
   "metadata": {},
   "outputs": [],
   "source": [
    "def init_driver():\n",
    "    options = webdriver.ChromeOptions()\n",
    "    # Agrega cualquier opción adicional que necesites, por ejemplo, opciones para ejecutar en segundo plano (--headless)\n",
    "\n",
    "    # Inicia el navegador y obtén la ventana principal\n",
    "    driver = webdriver.Chrome(options=options)\n",
    "    driver.get(\"https://web.whatsapp.com/\")\n",
    "    \n",
    "    # Espera a que inicies sesión manualmente escaneando el código QR\n",
    "    input(\"Selecciona el chat y presiona Enter cuando estés listo...\")\n",
    "    print(\"SESION INICIADA\")\n",
    "\n",
    "    return driver"
   ]
  },
  {
   "cell_type": "code",
   "execution_count": null,
   "metadata": {},
   "outputs": [],
   "source": [
    "def get_messages(driver):\n",
    "    # Obtén la fecha actual en el formato utilizado por WhatsApp\n",
    "    today_date = datetime.now().strftime(\"%Y-%m-%d\")\n",
    "\n",
    "    # Modifica la consulta XPath para obtener mensajes de hoy\n",
    "    xpath = f'//div[@class=\"message-in\"]//span[@dir=\"ltr\" and contains(text(), \"{today_date}\")]'\n",
    "\n",
    "    # Obtén la lista de mensajes\n",
    "    messages = driver.find_elements_by_xpath(xpath)\n",
    "    return messages"
   ]
  },
  {
   "cell_type": "code",
   "execution_count": null,
   "metadata": {},
   "outputs": [],
   "source": [
    "def save_messages(messages):\n",
    "    if len(messages) > 0:\n",
    "        with open(csv_file_path, mode='a', newline='', encoding='utf-8') as file:\n",
    "            writer = csv.writer(file)\n",
    "            for message in messages:\n",
    "                message_text = message.text\n",
    "                writer.writerow([time.strftime(\"%Y-%m-%d %H:%M:%S\"), message_text])\n",
    "        print(f\"Se almacenaron {len(messages)} nuevos mensajes.\")"
   ]
  },
  {
   "cell_type": "code",
   "execution_count": 1,
   "metadata": {},
   "outputs": [
    {
     "ename": "",
     "evalue": "",
     "output_type": "error",
     "traceback": [
      "\u001b[1;31mCannot execute code, session has been disposed. Please try restarting the Kernel."
     ]
    }
   ],
   "source": [
    "\n",
    "# Inicia el navegador y obtén la ventana principal\n",
    "print(\"culo1\")\n",
    "driver = init_driver()\n",
    "print(\"culo2\")\n",
    "\n",
    "# Programa la ejecución diaria a las 12 PM\n",
    "current_datetime = datetime.now()\n",
    "current_hour = current_datetime.strftime(\"%H:%M\")\n",
    "\n",
    "# Calcula la hora límite después de 5 minutos\n",
    "end_time = (current_datetime + timedelta(minutes=2)).strftime(\"%H:%M\")\n",
    "\n",
    "schedule.every().day.at(end_time).do(lambda: save_messages(get_messages(driver)))\n",
    "print(\"culo3\")\n",
    "while True:\n",
    "    current_time = datetime.now().strftime(\"%H:%M\")\n",
    "    \n",
    "    # Compara la hora actual con el tiempo límite\n",
    "    if current_time >= end_time:\n",
    "        break\n",
    "    \n",
    "    schedule.run_pending()\n",
    "    print(\"culo2\")\n",
    "    print(\"culo2\")\n",
    "    print(\"culo2\")\n",
    "    time.sleep(1)\n"
   ]
  },
  {
   "cell_type": "code",
   "execution_count": null,
   "metadata": {},
   "outputs": [],
   "source": []
  }
 ],
 "metadata": {
  "kernelspec": {
   "display_name": "Python 3",
   "language": "python",
   "name": "python3"
  },
  "language_info": {
   "codemirror_mode": {
    "name": "ipython",
    "version": 3
   },
   "file_extension": ".py",
   "mimetype": "text/x-python",
   "name": "python",
   "nbconvert_exporter": "python",
   "pygments_lexer": "ipython3",
   "version": "3.12.0"
  }
 },
 "nbformat": 4,
 "nbformat_minor": 2
}
